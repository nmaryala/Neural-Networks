{
 "cells": [
  {
   "cell_type": "markdown",
   "metadata": {},
   "source": [
    "# Softmax exercise\n",
    "\n",
    "*Complete and hand in this completed worksheet (including its outputs and any supporting code outside of the worksheet) with your assignment submission. For more details see the [assignments page](https://compsci682-fa19.github.io/assignments2019/assignment1/) on the course website.*\n",
    "\n",
    "This exercise is analogous to the SVM exercise. You will:\n",
    "\n",
    "- implement a fully-vectorized **loss function** for the Softmax classifier\n",
    "- implement the fully-vectorized expression for its **analytic gradient**\n",
    "- **check your implementation** with numerical gradient\n",
    "- use a validation set to **tune the learning rate and regularization** strength\n",
    "- **optimize** the loss function with **SGD**\n",
    "- **visualize** the final learned weights\n"
   ]
  },
  {
   "cell_type": "code",
   "execution_count": 1,
   "metadata": {},
   "outputs": [],
   "source": [
    "from __future__ import print_function\n",
    "import random\n",
    "import numpy as np\n",
    "from cs682.data_utils import load_CIFAR10\n",
    "import matplotlib.pyplot as plt\n",
    "\n",
    "\n",
    "%matplotlib inline\n",
    "plt.rcParams['figure.figsize'] = (10.0, 8.0) # set default size of plots\n",
    "plt.rcParams['image.interpolation'] = 'nearest'\n",
    "plt.rcParams['image.cmap'] = 'gray'\n",
    "\n",
    "# for auto-reloading extenrnal modules\n",
    "# see http://stackoverflow.com/questions/1907993/autoreload-of-modules-in-ipython\n",
    "%load_ext autoreload\n",
    "%autoreload 2"
   ]
  },
  {
   "cell_type": "code",
   "execution_count": 2,
   "metadata": {},
   "outputs": [
    {
     "name": "stdout",
     "output_type": "stream",
     "text": [
      "Train data shape:  (49000, 3073)\n",
      "Train labels shape:  (49000,)\n",
      "Validation data shape:  (1000, 3073)\n",
      "Validation labels shape:  (1000,)\n",
      "Test data shape:  (1000, 3073)\n",
      "Test labels shape:  (1000,)\n",
      "dev data shape:  (500, 3073)\n",
      "dev labels shape:  (500,)\n"
     ]
    }
   ],
   "source": [
    "def get_CIFAR10_data(num_training=49000, num_validation=1000, num_test=1000, num_dev=500):\n",
    "    \"\"\"\n",
    "    Load the CIFAR-10 dataset from disk and perform preprocessing to prepare\n",
    "    it for the linear classifier. These are the same steps as we used for the\n",
    "    SVM, but condensed to a single function.  \n",
    "    \"\"\"\n",
    "    # Load the raw CIFAR-10 data\n",
    "    cifar10_dir = 'cs682/datasets/cifar-10-batches-py'\n",
    "    \n",
    "    X_train, y_train, X_test, y_test = load_CIFAR10(cifar10_dir)\n",
    "    \n",
    "    # subsample the data\n",
    "    mask = list(range(num_training, num_training + num_validation))\n",
    "    X_val = X_train[mask]\n",
    "    y_val = y_train[mask]\n",
    "    mask = list(range(num_training))\n",
    "    X_train = X_train[mask]\n",
    "    y_train = y_train[mask]\n",
    "    mask = list(range(num_test))\n",
    "    X_test = X_test[mask]\n",
    "    y_test = y_test[mask]\n",
    "    mask = np.random.choice(num_training, num_dev, replace=False)\n",
    "    X_dev = X_train[mask]\n",
    "    y_dev = y_train[mask]\n",
    "    \n",
    "    # Preprocessing: reshape the image data into rows\n",
    "    X_train = np.reshape(X_train, (X_train.shape[0], -1))\n",
    "    X_val = np.reshape(X_val, (X_val.shape[0], -1))\n",
    "    X_test = np.reshape(X_test, (X_test.shape[0], -1))\n",
    "    X_dev = np.reshape(X_dev, (X_dev.shape[0], -1))\n",
    "    \n",
    "    # Normalize the data: subtract the mean image\n",
    "    mean_image = np.mean(X_train, axis = 0)\n",
    "    X_train -= mean_image\n",
    "    X_val -= mean_image\n",
    "    X_test -= mean_image\n",
    "    X_dev -= mean_image\n",
    "    \n",
    "    # add bias dimension and transform into columns\n",
    "    X_train = np.hstack([X_train, np.ones((X_train.shape[0], 1))])\n",
    "    X_val = np.hstack([X_val, np.ones((X_val.shape[0], 1))])\n",
    "    X_test = np.hstack([X_test, np.ones((X_test.shape[0], 1))])\n",
    "    X_dev = np.hstack([X_dev, np.ones((X_dev.shape[0], 1))])\n",
    "    \n",
    "    return X_train, y_train, X_val, y_val, X_test, y_test, X_dev, y_dev\n",
    "\n",
    "\n",
    "# Cleaning up variables to prevent loading data multiple times (which may cause memory issue)\n",
    "try:\n",
    "   del X_train, y_train\n",
    "   del X_test, y_test\n",
    "   print('Clear previously loaded data.')\n",
    "except:\n",
    "   pass\n",
    "\n",
    "# Invoke the above function to get our data.\n",
    "X_train, y_train, X_val, y_val, X_test, y_test, X_dev, y_dev = get_CIFAR10_data()\n",
    "print('Train data shape: ', X_train.shape)\n",
    "print('Train labels shape: ', y_train.shape)\n",
    "print('Validation data shape: ', X_val.shape)\n",
    "print('Validation labels shape: ', y_val.shape)\n",
    "print('Test data shape: ', X_test.shape)\n",
    "print('Test labels shape: ', y_test.shape)\n",
    "print('dev data shape: ', X_dev.shape)\n",
    "print('dev labels shape: ', y_dev.shape)"
   ]
  },
  {
   "cell_type": "markdown",
   "metadata": {},
   "source": [
    "## Softmax Classifier\n",
    "\n",
    "Your code for this section will all be written inside **cs682/classifiers/softmax.py**. \n"
   ]
  },
  {
   "cell_type": "code",
   "execution_count": 3,
   "metadata": {},
   "outputs": [
    {
     "name": "stdout",
     "output_type": "stream",
     "text": [
      "loss: 2.340098\n",
      "sanity check: 2.302585\n"
     ]
    }
   ],
   "source": [
    "# First implement the naive softmax loss function with nested loops.\n",
    "# Open the file cs682/classifiers/softmax.py and implement the\n",
    "# softmax_loss_naive function.\n",
    "\n",
    "from cs682.classifiers.softmax import softmax_loss_naive\n",
    "import time\n",
    "\n",
    "# Generate a random softmax weight matrix and use it to compute the loss.\n",
    "W = np.random.randn(3073, 10) * 0.0001\n",
    "loss, grad = softmax_loss_naive(W, X_dev, y_dev, 0.0)\n",
    "\n",
    "# As a rough sanity check, our loss should be something close to -log(0.1).\n",
    "print('loss: %f' % loss)\n",
    "print('sanity check: %f' % (-np.log(0.1)))"
   ]
  },
  {
   "cell_type": "markdown",
   "metadata": {},
   "source": [
    "## Inline Question 1:\n",
    "Why do we expect our loss to be close to -log(0.1)? Explain briefly.**\n",
    "\n",
    "**Your answer:** We are initiating elements of W to be very small. Hence, when we take exponent of a very small number, we get exp(~0) => exp(0) = 1. In softmax function, if we approximate all the terms to 1, then we end up with 1/10 for each exponent of score. Essentially, we get -log(1/10) = -log(0.1). Since it's the same for every example, even if we average it over, we get -log(0.1).\n"
   ]
  },
  {
   "cell_type": "code",
   "execution_count": 4,
   "metadata": {},
   "outputs": [
    {
     "name": "stdout",
     "output_type": "stream",
     "text": [
      "numerical: 3.902427 analytic: 3.902427, relative error: 1.351823e-08\n",
      "numerical: -2.169901 analytic: -2.169901, relative error: 9.049346e-09\n",
      "numerical: 1.845966 analytic: 1.845966, relative error: 3.389752e-08\n",
      "numerical: 2.336157 analytic: 2.336157, relative error: 1.254159e-08\n",
      "numerical: -4.579238 analytic: -4.579238, relative error: 3.704144e-09\n",
      "numerical: 1.454987 analytic: 1.454987, relative error: 9.621803e-09\n",
      "numerical: -0.377293 analytic: -0.377293, relative error: 1.466624e-07\n",
      "numerical: -0.012592 analytic: -0.012592, relative error: 1.709682e-06\n",
      "numerical: -0.005379 analytic: -0.005379, relative error: 7.520723e-06\n",
      "numerical: 2.694451 analytic: 2.694451, relative error: 9.489678e-09\n",
      "numerical: -0.440033 analytic: -0.440033, relative error: 1.006129e-08\n",
      "numerical: 0.960237 analytic: 0.960237, relative error: 4.966151e-08\n",
      "numerical: 0.846898 analytic: 0.846898, relative error: 7.480986e-08\n",
      "numerical: 2.486037 analytic: 2.486037, relative error: 2.742079e-08\n",
      "numerical: 0.244251 analytic: 0.244251, relative error: 1.832118e-07\n",
      "numerical: 1.300372 analytic: 1.300372, relative error: 3.288925e-08\n",
      "numerical: -0.349705 analytic: -0.349705, relative error: 7.449021e-08\n",
      "numerical: -0.803577 analytic: -0.803577, relative error: 3.878746e-08\n",
      "numerical: 0.636018 analytic: 0.636018, relative error: 3.871182e-08\n",
      "numerical: -0.159012 analytic: -0.159012, relative error: 1.621705e-07\n"
     ]
    }
   ],
   "source": [
    "# Complete the implementation of softmax_loss_naive and implement a (naive)\n",
    "# version of the gradient that uses nested loops.\n",
    "loss, grad = softmax_loss_naive(W, X_dev, y_dev, 0.0)\n",
    "\n",
    "# As we did for the SVM, use numeric gradient checking as a debugging tool.\n",
    "# The numeric gradient should be close to the analytic gradient.\n",
    "from cs682.gradient_check import grad_check_sparse\n",
    "f = lambda w: softmax_loss_naive(w, X_dev, y_dev, 0.0)[0]\n",
    "grad_numerical = grad_check_sparse(f, W, grad, 10)\n",
    "\n",
    "# similar to SVM case, do another gradient check with regularization\n",
    "loss, grad = softmax_loss_naive(W, X_dev, y_dev, 5e1)\n",
    "f = lambda w: softmax_loss_naive(w, X_dev, y_dev, 5e1)[0]\n",
    "grad_numerical = grad_check_sparse(f, W, grad, 10)"
   ]
  },
  {
   "cell_type": "code",
   "execution_count": 5,
   "metadata": {},
   "outputs": [
    {
     "name": "stdout",
     "output_type": "stream",
     "text": [
      "naive loss: 2.340098e+00 computed in 0.084918s\n",
      "vectorized loss: 2.340098e+00 computed in 0.002776s\n",
      "Loss difference: 0.000000\n",
      "Gradient difference: 0.000000\n"
     ]
    }
   ],
   "source": [
    "# Now that we have a naive implementation of the softmax loss function and its gradient,\n",
    "# implement a vectorized version in softmax_loss_vectorized.\n",
    "# The two versions should compute the same results, but the vectorized version should be\n",
    "# much faster.\n",
    "tic = time.time()\n",
    "loss_naive, grad_naive = softmax_loss_naive(W, X_dev, y_dev, 0.000005)\n",
    "toc = time.time()\n",
    "print('naive loss: %e computed in %fs' % (loss_naive, toc - tic))\n",
    "\n",
    "from cs682.classifiers.softmax import softmax_loss_vectorized\n",
    "tic = time.time()\n",
    "loss_vectorized, grad_vectorized = softmax_loss_vectorized(W, X_dev, y_dev, 0.000005)\n",
    "toc = time.time()\n",
    "print('vectorized loss: %e computed in %fs' % (loss_vectorized, toc - tic))\n",
    "\n",
    "# As we did for the SVM, we use the Frobenius norm to compare the two versions\n",
    "# of the gradient.\n",
    "grad_difference = np.linalg.norm(grad_naive - grad_vectorized, ord='fro')\n",
    "print('Loss difference: %f' % np.abs(loss_naive - loss_vectorized))\n",
    "print('Gradient difference: %f' % grad_difference)"
   ]
  },
  {
   "cell_type": "code",
   "execution_count": 7,
   "metadata": {},
   "outputs": [
    {
     "name": "stdout",
     "output_type": "stream",
     "text": [
      "lr 1.000000e-08 reg 2.500000e+04 train accuracy: 0.263367 val accuracy: 0.275000\n",
      "lr 1.000000e-08 reg 2.750000e+04 train accuracy: 0.261469 val accuracy: 0.257000\n",
      "lr 1.000000e-08 reg 3.000000e+04 train accuracy: 0.258673 val accuracy: 0.270000\n",
      "lr 1.000000e-08 reg 3.250000e+04 train accuracy: 0.262061 val accuracy: 0.269000\n",
      "lr 1.000000e-08 reg 3.500000e+04 train accuracy: 0.274041 val accuracy: 0.305000\n",
      "lr 1.000000e-08 reg 3.750000e+04 train accuracy: 0.288204 val accuracy: 0.306000\n",
      "lr 1.000000e-08 reg 4.000000e+04 train accuracy: 0.283612 val accuracy: 0.297000\n",
      "lr 1.000000e-08 reg 4.250000e+04 train accuracy: 0.295265 val accuracy: 0.311000\n",
      "lr 1.000000e-08 reg 4.500000e+04 train accuracy: 0.293816 val accuracy: 0.301000\n",
      "lr 1.000000e-08 reg 4.750000e+04 train accuracy: 0.291673 val accuracy: 0.281000\n",
      "lr 5.900000e-08 reg 2.500000e+04 train accuracy: 0.325327 val accuracy: 0.338000\n",
      "lr 5.900000e-08 reg 2.750000e+04 train accuracy: 0.326388 val accuracy: 0.341000\n",
      "lr 5.900000e-08 reg 3.000000e+04 train accuracy: 0.326429 val accuracy: 0.340000\n",
      "lr 5.900000e-08 reg 3.250000e+04 train accuracy: 0.323653 val accuracy: 0.337000\n",
      "lr 5.900000e-08 reg 3.500000e+04 train accuracy: 0.319531 val accuracy: 0.334000\n",
      "lr 5.900000e-08 reg 3.750000e+04 train accuracy: 0.321755 val accuracy: 0.336000\n",
      "lr 5.900000e-08 reg 4.000000e+04 train accuracy: 0.307571 val accuracy: 0.328000\n",
      "lr 5.900000e-08 reg 4.250000e+04 train accuracy: 0.307551 val accuracy: 0.322000\n",
      "lr 5.900000e-08 reg 4.500000e+04 train accuracy: 0.310224 val accuracy: 0.327000\n",
      "lr 5.900000e-08 reg 4.750000e+04 train accuracy: 0.304286 val accuracy: 0.323000\n",
      "lr 1.080000e-07 reg 2.500000e+04 train accuracy: 0.330469 val accuracy: 0.350000\n",
      "lr 1.080000e-07 reg 2.750000e+04 train accuracy: 0.325612 val accuracy: 0.336000\n",
      "lr 1.080000e-07 reg 3.000000e+04 train accuracy: 0.319612 val accuracy: 0.335000\n",
      "lr 1.080000e-07 reg 3.250000e+04 train accuracy: 0.314571 val accuracy: 0.329000\n",
      "lr 1.080000e-07 reg 3.500000e+04 train accuracy: 0.322959 val accuracy: 0.327000\n",
      "lr 1.080000e-07 reg 3.750000e+04 train accuracy: 0.308837 val accuracy: 0.319000\n",
      "lr 1.080000e-07 reg 4.000000e+04 train accuracy: 0.316163 val accuracy: 0.329000\n",
      "lr 1.080000e-07 reg 4.250000e+04 train accuracy: 0.315898 val accuracy: 0.330000\n",
      "lr 1.080000e-07 reg 4.500000e+04 train accuracy: 0.317490 val accuracy: 0.334000\n",
      "lr 1.080000e-07 reg 4.750000e+04 train accuracy: 0.311612 val accuracy: 0.325000\n",
      "lr 1.570000e-07 reg 2.500000e+04 train accuracy: 0.331857 val accuracy: 0.344000\n",
      "lr 1.570000e-07 reg 2.750000e+04 train accuracy: 0.329612 val accuracy: 0.339000\n",
      "lr 1.570000e-07 reg 3.000000e+04 train accuracy: 0.316510 val accuracy: 0.336000\n",
      "lr 1.570000e-07 reg 3.250000e+04 train accuracy: 0.316367 val accuracy: 0.340000\n",
      "lr 1.570000e-07 reg 3.500000e+04 train accuracy: 0.320592 val accuracy: 0.328000\n",
      "lr 1.570000e-07 reg 3.750000e+04 train accuracy: 0.320959 val accuracy: 0.333000\n",
      "lr 1.570000e-07 reg 4.000000e+04 train accuracy: 0.313571 val accuracy: 0.330000\n",
      "lr 1.570000e-07 reg 4.250000e+04 train accuracy: 0.312449 val accuracy: 0.328000\n",
      "lr 1.570000e-07 reg 4.500000e+04 train accuracy: 0.312102 val accuracy: 0.324000\n",
      "lr 1.570000e-07 reg 4.750000e+04 train accuracy: 0.309510 val accuracy: 0.323000\n",
      "lr 2.060000e-07 reg 2.500000e+04 train accuracy: 0.330082 val accuracy: 0.340000\n",
      "lr 2.060000e-07 reg 2.750000e+04 train accuracy: 0.327980 val accuracy: 0.350000\n",
      "lr 2.060000e-07 reg 3.000000e+04 train accuracy: 0.325673 val accuracy: 0.327000\n",
      "lr 2.060000e-07 reg 3.250000e+04 train accuracy: 0.311286 val accuracy: 0.327000\n",
      "lr 2.060000e-07 reg 3.500000e+04 train accuracy: 0.316714 val accuracy: 0.334000\n",
      "lr 2.060000e-07 reg 3.750000e+04 train accuracy: 0.322102 val accuracy: 0.336000\n",
      "lr 2.060000e-07 reg 4.000000e+04 train accuracy: 0.310796 val accuracy: 0.333000\n",
      "lr 2.060000e-07 reg 4.250000e+04 train accuracy: 0.310857 val accuracy: 0.329000\n",
      "lr 2.060000e-07 reg 4.500000e+04 train accuracy: 0.314449 val accuracy: 0.331000\n",
      "lr 2.060000e-07 reg 4.750000e+04 train accuracy: 0.308980 val accuracy: 0.328000\n",
      "lr 2.550000e-07 reg 2.500000e+04 train accuracy: 0.333082 val accuracy: 0.349000\n",
      "lr 2.550000e-07 reg 2.750000e+04 train accuracy: 0.329592 val accuracy: 0.339000\n",
      "lr 2.550000e-07 reg 3.000000e+04 train accuracy: 0.311163 val accuracy: 0.338000\n",
      "lr 2.550000e-07 reg 3.250000e+04 train accuracy: 0.326837 val accuracy: 0.347000\n",
      "lr 2.550000e-07 reg 3.500000e+04 train accuracy: 0.314898 val accuracy: 0.337000\n",
      "lr 2.550000e-07 reg 3.750000e+04 train accuracy: 0.308265 val accuracy: 0.325000\n",
      "lr 2.550000e-07 reg 4.000000e+04 train accuracy: 0.308531 val accuracy: 0.317000\n",
      "lr 2.550000e-07 reg 4.250000e+04 train accuracy: 0.314122 val accuracy: 0.322000\n",
      "lr 2.550000e-07 reg 4.500000e+04 train accuracy: 0.306184 val accuracy: 0.327000\n",
      "lr 2.550000e-07 reg 4.750000e+04 train accuracy: 0.305959 val accuracy: 0.323000\n",
      "lr 3.040000e-07 reg 2.500000e+04 train accuracy: 0.335796 val accuracy: 0.344000\n",
      "lr 3.040000e-07 reg 2.750000e+04 train accuracy: 0.328959 val accuracy: 0.336000\n",
      "lr 3.040000e-07 reg 3.000000e+04 train accuracy: 0.313224 val accuracy: 0.329000\n",
      "lr 3.040000e-07 reg 3.250000e+04 train accuracy: 0.306837 val accuracy: 0.320000\n",
      "lr 3.040000e-07 reg 3.500000e+04 train accuracy: 0.313612 val accuracy: 0.325000\n",
      "lr 3.040000e-07 reg 3.750000e+04 train accuracy: 0.315184 val accuracy: 0.330000\n",
      "lr 3.040000e-07 reg 4.000000e+04 train accuracy: 0.299490 val accuracy: 0.322000\n",
      "lr 3.040000e-07 reg 4.250000e+04 train accuracy: 0.307796 val accuracy: 0.338000\n",
      "lr 3.040000e-07 reg 4.500000e+04 train accuracy: 0.305531 val accuracy: 0.326000\n",
      "lr 3.040000e-07 reg 4.750000e+04 train accuracy: 0.292571 val accuracy: 0.314000\n",
      "lr 3.530000e-07 reg 2.500000e+04 train accuracy: 0.329408 val accuracy: 0.337000\n",
      "lr 3.530000e-07 reg 2.750000e+04 train accuracy: 0.325857 val accuracy: 0.346000\n",
      "lr 3.530000e-07 reg 3.000000e+04 train accuracy: 0.317551 val accuracy: 0.331000\n",
      "lr 3.530000e-07 reg 3.250000e+04 train accuracy: 0.314531 val accuracy: 0.345000\n",
      "lr 3.530000e-07 reg 3.500000e+04 train accuracy: 0.322980 val accuracy: 0.336000\n",
      "lr 3.530000e-07 reg 3.750000e+04 train accuracy: 0.321857 val accuracy: 0.332000\n",
      "lr 3.530000e-07 reg 4.000000e+04 train accuracy: 0.319143 val accuracy: 0.327000\n",
      "lr 3.530000e-07 reg 4.250000e+04 train accuracy: 0.319837 val accuracy: 0.340000\n",
      "lr 3.530000e-07 reg 4.500000e+04 train accuracy: 0.307857 val accuracy: 0.319000\n",
      "lr 3.530000e-07 reg 4.750000e+04 train accuracy: 0.303306 val accuracy: 0.312000\n",
      "lr 4.020000e-07 reg 2.500000e+04 train accuracy: 0.329490 val accuracy: 0.339000\n",
      "lr 4.020000e-07 reg 2.750000e+04 train accuracy: 0.329184 val accuracy: 0.347000\n",
      "lr 4.020000e-07 reg 3.000000e+04 train accuracy: 0.311041 val accuracy: 0.325000\n",
      "lr 4.020000e-07 reg 3.250000e+04 train accuracy: 0.311306 val accuracy: 0.325000\n",
      "lr 4.020000e-07 reg 3.500000e+04 train accuracy: 0.316041 val accuracy: 0.329000\n",
      "lr 4.020000e-07 reg 3.750000e+04 train accuracy: 0.323592 val accuracy: 0.335000\n",
      "lr 4.020000e-07 reg 4.000000e+04 train accuracy: 0.312347 val accuracy: 0.327000\n",
      "lr 4.020000e-07 reg 4.250000e+04 train accuracy: 0.305918 val accuracy: 0.318000\n",
      "lr 4.020000e-07 reg 4.500000e+04 train accuracy: 0.308531 val accuracy: 0.323000\n",
      "lr 4.020000e-07 reg 4.750000e+04 train accuracy: 0.309878 val accuracy: 0.319000\n",
      "lr 4.510000e-07 reg 2.500000e+04 train accuracy: 0.322449 val accuracy: 0.333000\n",
      "lr 4.510000e-07 reg 2.750000e+04 train accuracy: 0.329714 val accuracy: 0.347000\n",
      "lr 4.510000e-07 reg 3.000000e+04 train accuracy: 0.321061 val accuracy: 0.332000\n",
      "lr 4.510000e-07 reg 3.250000e+04 train accuracy: 0.305776 val accuracy: 0.321000\n",
      "lr 4.510000e-07 reg 3.500000e+04 train accuracy: 0.310490 val accuracy: 0.323000\n",
      "lr 4.510000e-07 reg 3.750000e+04 train accuracy: 0.316796 val accuracy: 0.328000\n",
      "lr 4.510000e-07 reg 4.000000e+04 train accuracy: 0.312612 val accuracy: 0.324000\n",
      "lr 4.510000e-07 reg 4.250000e+04 train accuracy: 0.294061 val accuracy: 0.306000\n",
      "lr 4.510000e-07 reg 4.500000e+04 train accuracy: 0.301694 val accuracy: 0.320000\n",
      "lr 4.510000e-07 reg 4.750000e+04 train accuracy: 0.307633 val accuracy: 0.312000\n",
      "best validation accuracy achieved during cross-validation: 0.350000\n"
     ]
    }
   ],
   "source": [
    "# Use the validation set to tune hyperparameters (regularization strength and\n",
    "# learning rate). You should experiment with different ranges for the learning\n",
    "# rates and regularization strengths; if you are careful you should be able to\n",
    "# get a classification accuracy of over 0.35 on the validation set.\n",
    "from cs682.classifiers import Softmax\n",
    "results = {}\n",
    "best_val = -1\n",
    "best_softmax = None\n",
    "learning_rates = [1e-8, 5e-7]\n",
    "regularization_strengths = [2.5e4, 5e4]\n",
    "\n",
    "################################################################################\n",
    "# TODO:                                                                        #\n",
    "# Use the validation set to set the learning rate and regularization strength. #\n",
    "# This should be identical to the validation that you did for the SVM; save    #\n",
    "# the best trained softmax classifer in best_softmax.                          #\n",
    "################################################################################\n",
    "num_iters = 10\n",
    "for it in range(num_iters):\n",
    "    for jt in range(num_iters):\n",
    "        softmax = Softmax()\n",
    "        learning_rate = learning_rates[0] + it * ((learning_rates[1] - learning_rates[0]) / num_iters)\n",
    "        reg = regularization_strengths[0] + jt * ((regularization_strengths[1] - regularization_strengths[0])/ num_iters)\n",
    "        loss_hist = softmax.train(X_train, y_train, learning_rate=learning_rate, reg=reg,\n",
    "                              num_iters=3000, verbose=False)\n",
    "        \n",
    "        y_train_pred = softmax.predict(X_train)\n",
    "        y_val_pred = softmax.predict(X_val)\n",
    "        training_accuracy = np.mean(y_train == y_train_pred)\n",
    "        validation_accuracy = np.mean(y_val == y_val_pred)\n",
    "        results[(learning_rate, reg)] = (training_accuracy, validation_accuracy)\n",
    "        if validation_accuracy > best_val:\n",
    "            best_val = validation_accuracy\n",
    "            best_softmax = softmax    \n",
    "\n",
    "################################################################################\n",
    "#                              END OF YOUR CODE                                #\n",
    "################################################################################\n",
    "    \n",
    "# Print out results.\n",
    "for lr, reg in sorted(results):\n",
    "    train_accuracy, val_accuracy = results[(lr, reg)]\n",
    "    print('lr %e reg %e train accuracy: %f val accuracy: %f' % (\n",
    "                lr, reg, train_accuracy, val_accuracy))\n",
    "    \n",
    "print('best validation accuracy achieved during cross-validation: %f' % best_val)"
   ]
  },
  {
   "cell_type": "code",
   "execution_count": 8,
   "metadata": {},
   "outputs": [
    {
     "name": "stdout",
     "output_type": "stream",
     "text": [
      "softmax on raw pixels final test set accuracy: 0.339000\n"
     ]
    }
   ],
   "source": [
    "# evaluate on test set\n",
    "# Evaluate the best softmax on test set\n",
    "y_test_pred = best_softmax.predict(X_test)\n",
    "test_accuracy = np.mean(y_test == y_test_pred)\n",
    "print('softmax on raw pixels final test set accuracy: %f' % (test_accuracy, ))"
   ]
  },
  {
   "cell_type": "markdown",
   "metadata": {},
   "source": [
    "**Inline Question** - *True or False*\n",
    "\n",
    "It's possible to add a new datapoint to a training set that would leave the SVM loss unchanged, but this is not the case with the Softmax classifier loss.\n",
    "\n",
    "*Your answer*: True\n",
    "\n",
    "*Your explanation*: We have accounted for numerical instability for Softmax because the scores of some points might be very large and when we do an exp on that number, it tends to go to infinity. In case of SVM, the loss remains unchanged because its a max function of difference of scores. But in case of Softmax, if the score is too large, loss changes by a lot because there is exponential function in the loss."
   ]
  },
  {
   "cell_type": "code",
   "execution_count": 9,
   "metadata": {},
   "outputs": [
    {
     "data": {
      "image/png": "[encoded data removed]",
      "text/plain": [
       "<Figure size 432x288 with 10 Axes>"
      ]
     },
     "metadata": {
      "needs_background": "light"
     },
     "output_type": "display_data"
    }
   ],
   "source": [
    "# Visualize the learned weights for each class\n",
    "w = best_softmax.W[:-1,:] # strip out the bias\n",
    "w = w.reshape(32, 32, 3, 10)\n",
    "\n",
    "w_min, w_max = np.min(w), np.max(w)\n",
    "\n",
    "classes = ['plane', 'car', 'bird', 'cat', 'deer', 'dog', 'frog', 'horse', 'ship', 'truck']\n",
    "for i in range(10):\n",
    "    plt.subplot(2, 5, i + 1)\n",
    "    \n",
    "    # Rescale the weights to be between 0 and 255\n",
    "    wimg = 255.0 * (w[:, :, :, i].squeeze() - w_min) / (w_max - w_min)\n",
    "    plt.imshow(wimg.astype('uint8'))\n",
    "    plt.axis('off')\n",
    "    plt.title(classes[i])"
   ]
  },
  {
   "cell_type": "code",
   "execution_count": null,
   "metadata": {},
   "outputs": [],
   "source": []
  }
 ],
 "metadata": {
  "kernelspec": {
   "display_name": "Python 3",
   "language": "python",
   "name": "python3"
  },
  "language_info": {
   "codemirror_mode": {
    "name": "ipython",
    "version": 3
   },
   "file_extension": ".py",
   "mimetype": "text/x-python",
   "name": "python",
   "nbconvert_exporter": "python",
   "pygments_lexer": "ipython3",
   "version": "3.7.3"
  }
 },
 "nbformat": 4,
 "nbformat_minor": 1
}
